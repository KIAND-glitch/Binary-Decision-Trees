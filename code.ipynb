{
 "cells": [
  {
   "cell_type": "markdown",
   "metadata": {},
   "source": [
    "# Assignment 1: Binary Decision Tree (10 marks)"
   ]
  },
  {
   "cell_type": "markdown",
   "metadata": {},
   "source": [
    "## Overview\n",
    "\n",
    "In this assignment, you will build the binary Decision Tree (DT) classification algorithm from scratch and apply it to a real-world machine learning dataset. You are not allowed to use third party library functions and directly call pre-built DT algorithms. After building the DT, you will predict the predominant color of national flags using a diverse set of features, including country features such as language, population, in addition to other structural properties. The list of classes (colors) is:\n",
    "\n",
    "```\n",
    "black\n",
    "blue\n",
    "brown\n",
    "gold\n",
    "green\n",
    "orange\n",
    "red\n",
    "white\n",
    "```\n",
    "\n",
    "We use a modified version of the Flags data set from the UCI Machine learning repository <a href=\"https://archive.ics.uci.edu/ml/datasets/Flags\"> Flags Dataset</a> (click the link for more information on all features and values).\n",
    "\n",
    "\n",
    "In the **Data Preparation** section, you will read the dataset into a data frame(Q1.1). You will also need to develop code to convert two of the numeric features to nominal (Q1.2). Then, the data will be divided into two parts: Train and Test. (Q1.3)\n",
    "\n",
    "In the **Model Training** section, you will write a number of helper functions that will be incorporated into the main Binary Decision Tree function (Q2-6).\n",
    "\n",
    "You can observe the use of each of these functions in the Main Binary Decision Tree Algorithm, which you can use to print your trained tree. We have also provided the code for navigating a trained tree and using it to predict the labels for the test dataset.\n",
    "\n",
    "In the **Classification and Evaluation** section, you will test and evaluate your model. You will implement functions from scratch to calculate the accuracy of the model predictions (Q7). *For the evaluation part you are NOT allowed to use third party provided library functions such as classification_report.* Finally, you will train a tree and use it to predict the labels for the test set and see the accuracy of your model (Q8).\n",
    "\n",
    "Q9 includes some analytical questions in which you will critically analyze the behaviour of your tree in different situations.\n"
   ]
  },
  {
   "cell_type": "code",
   "execution_count": 61,
   "metadata": {},
   "outputs": [],
   "source": [
    "import numpy as np\n",
    "import pandas as pd\n",
    "\n",
    "from collections import Counter\n",
    "from pprint import pprint"
   ]
  },
  {
   "cell_type": "markdown",
   "metadata": {},
   "source": [
    "## Data Preparation \n",
    "\n",
    "The dataset that you have consist of a dataset with 194 flags. Each flag is defined by 26 features and 1 `label`. These features are `index`, `landmass`,\t`zone`,\t`area`,\t..., `animate`,\tand `text`.\n",
    "The first feature is only an index and is not useful for classification, but the rest of the features can be used for predicting the color of the flag, i.e., `label`. \n",
    "\n",
    "\n",
    "#### Q1.1 Reading the input file and data preprocessing (0.25 marks)\n",
    "\n",
    "This code should read the input file into a `pandas` dataframe. You should remove the first feature because it is only an id."
   ]
  },
  {
   "cell_type": "code",
   "execution_count": 62,
   "metadata": {},
   "outputs": [],
   "source": [
    "############ YOUR CODE HERE ##############\n",
    "\n",
    "# First, read the input file\n",
    "data_p = pd.read_csv('flags.data.csv', sep=',')\n",
    "# print(data_p.head())\n",
    "\n",
    "# Second, drop the index column\n",
    "df = data_p.iloc[:, 1:]\n",
    "    \n",
    "# deep copy creation for equal width binning\n",
    "deep_copy_df = df.copy(deep=True)\n",
    "\n",
    "############## TEST IT YOURSELF ###############\n",
    "\n",
    "assert df['landmass'][0] == 5\n",
    "assert df['zone'][67] == 4\n"
   ]
  },
  {
   "cell_type": "markdown",
   "metadata": {},
   "source": [
    "#### Q1.2 Convert Numeric features to Categorical (0.5 marks)\n",
    "In order to simplify our calculations we are going to transform the `area` and `population` features with numeric values to categories. You will be using **equal frequency binning with 5 bins**.\n",
    "\n",
    "**NOTE:** Assign sequential integer values starting from 0 to 4 to each of the bins. For example for `population` feature, any value between [0,1] is mapped to 0, any value between (1,4] is mapped to 1, and so on.\n"
   ]
  },
  {
   "cell_type": "code",
   "execution_count": 63,
   "metadata": {},
   "outputs": [],
   "source": [
    "############ YOUR CODE HERE ##############\n",
    "\n",
    "\n",
    "df['area'] = pd.qcut(df['area'].rank(method='first'), q=5, labels=False)\n",
    "\n",
    "df['population'] = pd.qcut(df['population'].rank(method='first'), q=5, labels=False)\n",
    "\n",
    "# print(np.array(df['area']))\n",
    "# print(np.array(df['population']))\n",
    "\n",
    "##########################################"
   ]
  },
  {
   "cell_type": "markdown",
   "metadata": {},
   "source": [
    "#### Q1.3 Split the data into a Train and Test Set (0.25 marks)\n",
    "The first 150 instances should be used for training and the last 44 instances for testing. **SHUFFLING IS NOT ALLOWED!**"
   ]
  },
  {
   "cell_type": "code",
   "execution_count": 64,
   "metadata": {},
   "outputs": [],
   "source": [
    "# the first 150 instances should be used for training and the last 44 instances for testing\n",
    "# SHUFFLING IS NOT ALLOWED\n",
    "\n",
    "train_df = df.iloc[:150]\n",
    "test_df = df.iloc[150:]\n",
    "\n",
    "############## TEST IT YOURSELF ###############\n",
    "assert(len(train_df)==150)\n",
    "assert(len(test_df)==44)"
   ]
  },
  {
   "cell_type": "markdown",
   "metadata": {},
   "source": [
    "## Train a Binary Decision Tree"
   ]
  },
  {
   "cell_type": "markdown",
   "metadata": {},
   "source": [
    "### Helper Functions\n",
    "\n",
    "There are a number of helper functions that we provide here. In addition to the following helper functions, you must implement a few other helper functions to use in your binary decision tree algorithm. "
   ]
  },
  {
   "cell_type": "code",
   "execution_count": 65,
   "metadata": {},
   "outputs": [],
   "source": [
    "#######################################################################################\n",
    "# This function receives instances in a 2D array format \n",
    "# and returns the most common label for the passed instances. \n",
    "\n",
    "def assign_label(data):\n",
    "    # the input `data` is a 2D array\n",
    "    # the output is a STRING \n",
    "    \n",
    "    column = data[:, -1] \n",
    "    \n",
    "    values, counts = np.unique(column, return_counts=True)\n",
    "    index = counts.argmax()\n",
    "    name = values[index]\n",
    "    \n",
    "    return name\n",
    "\n",
    "#######################################################################################\n",
    "# This function separates instances (data) based on a given feature (split feature)\n",
    "# and a threshold value (value). \n",
    "# it returns a left and right subtree corresponding to that threshold value.\n",
    "\n",
    "def find_subtrees(data, features_list, split_feature, value):  \n",
    "    # the input `data` is a 2D array \n",
    "    # the input `features_list` is the list of feature names\n",
    "    # the input `split_feature` specifies a single feature name\n",
    "    # the input `value` specifies a value for the `split_feature`\n",
    "    # the outputs `data_left` and `data_right` are 2D arrays (subtrees) \n",
    "    \n",
    "    index = features_list.get_loc(split_feature)\n",
    "    data_left = data[data[:,index]<value]\n",
    "    data_right = data[data[:,index]>=value]\n",
    "    \n",
    "    return data_left, data_right\n",
    "\n",
    "#######################################################################################\n",
    "# This function computes the entropy of a set of instances (data) \n",
    "\n",
    "def calc_entopy(data):\n",
    "    # the input `data` is a 2D array \n",
    "    # the output is a single real-valued number\n",
    "    \n",
    "    column = data[:, -1]\n",
    "    _, counts = np.unique(column, return_counts=True)\n",
    "\n",
    "    x = counts / counts.sum()  \n",
    "    y = sum(x * -np.log2(x))\n",
    "    \n",
    "    return y\n"
   ]
  },
  {
   "cell_type": "markdown",
   "metadata": {},
   "source": [
    "**Q2. Write a function that will determine whether a node is pure or not. (0.5 marks)**\n",
    "\n",
    "It takes as input: \n",
    "- data: 2D array of values containing instances\n",
    "\n",
    "It returns as output: \n",
    "- answer: a boolean value indicating whether the data (node) is pure or not"
   ]
  },
  {
   "cell_type": "code",
   "execution_count": 66,
   "metadata": {},
   "outputs": [],
   "source": [
    "#This function receives a 2D array of values containing instances, it should have a format such as follows:\n",
    "#  [[3, 1, 1, ..., 1, 0, 'red'],\n",
    "#   [4, 1, 4, ..., 0, 0, 'green'],\n",
    "#   [1, 1, 0, ..., 0, 0, 'red'],\n",
    "#   ...,\n",
    "#   [5, 1, 3, ..., 0, 0, 'red']]\n",
    "\n",
    "\n",
    "def calc_purity(data): \n",
    "    # the input `data` is a 2D array as illustrated above\n",
    "    # the output `answer` is a BOOLEAN (True or False)\n",
    "    \n",
    "    ############ YOUR CODE HERE ##############\n",
    "\n",
    "    column = data[:, -1] \n",
    "    \n",
    "    answer = np.unique(column).size == 1\n",
    "        \n",
    "    ##########################################\n",
    "    return answer"
   ]
  },
  {
   "cell_type": "code",
   "execution_count": 67,
   "metadata": {},
   "outputs": [],
   "source": [
    "############## TEST IT YOURSELF ###############\n",
    "assert calc_purity(df.values) == False"
   ]
  },
  {
   "cell_type": "markdown",
   "metadata": {},
   "source": [
    "**Q3. Write a function that will determine the mean information for a given set of instances. (0.75 marks)**\n",
    "\n",
    "It takes as input: \n",
    "- data: an array of 2D arrays of values containing instances\n",
    "\n",
    "It returns as output: \n",
    "- mi: mean information which is a single real-valued number, refer to lecture 4 slides for Mean info"
   ]
  },
  {
   "cell_type": "code",
   "execution_count": 68,
   "metadata": {},
   "outputs": [],
   "source": [
    "# This function receives an array of 2D arrays of values containing instances, it should have a format such as follows:\n",
    "# [[[3, 1, 1, ..., 1, 0, 'red'],\n",
    "#   [4, 1, 4, ..., 0, 0, 'green'],\n",
    "#   [1, 1, 0, ..., 0, 0, 'red'],\n",
    "#   ...,\n",
    "#   [5, 1, 3, ..., 0, 0, 'red'],\n",
    "\n",
    "#   [[6, 3, 0, ..., 1, 0, 'blue'],\n",
    "#    [2, 3, 4, ..., 0, 0, 'gold'],\n",
    "#    [2, 3, 4, ..., 0, 0, 'blue'],\n",
    "#    ...,\n",
    "#    [3, 3, 3, ..., 0, 0, 'blue']]]\n",
    "\n",
    "\n",
    "def calculate_MI(data):\n",
    "    # the input `data` is an array of 2D arrays as illustrated above\n",
    "    # the output `mi` is a real-valued number\n",
    "    ############ YOUR CODE HERE ##############\n",
    "    \n",
    "    n = 0\n",
    "    for arr in data:\n",
    "        n += len(arr)\n",
    "\n",
    "    mi = 0\n",
    "    for arr in data:\n",
    "        mi += (len(arr) / n) * calc_entopy(arr)\n",
    "    \n",
    "    ##########################################\n",
    "    \n",
    "    return mi"
   ]
  },
  {
   "cell_type": "code",
   "execution_count": 69,
   "metadata": {},
   "outputs": [],
   "source": [
    "############## TEST IT YOURSELF ###############\n",
    "assert(calculate_MI([df[df['label']=='red'].values,df[df['label']=='red'].values]))==0"
   ]
  },
  {
   "cell_type": "markdown",
   "metadata": {},
   "source": [
    "**Q4. Write a function that will determine the information gain after we perform a split for a feature (0.5 marks)**\n",
    "\n",
    "It takes as input: \n",
    "-  root: the data before the split\n",
    "-  children: the subtrees after the split\n",
    "\n",
    "\n",
    "It returns as output: \n",
    "- ig: Information Gain which is a single real-valued number, please refer to lecture 4 slides for information gain"
   ]
  },
  {
   "cell_type": "code",
   "execution_count": 70,
   "metadata": {},
   "outputs": [],
   "source": [
    "def calculate_IG(root, children):\n",
    "    # the input `root` is a 2D array as illustrated in Q2\n",
    "    # the input `children` is an array of 2D arrays as illustared in Q3\n",
    "    # the output `ig` is a real-valued number\n",
    "    ############ YOUR CODE HERE ##############\n",
    "\n",
    "    ig = calc_entopy(root) - calculate_MI(children)\n",
    "    \n",
    "    ##########################################\n",
    "    \n",
    "    return ig"
   ]
  },
  {
   "cell_type": "markdown",
   "metadata": {},
   "source": [
    "**Q5. Write a function that will determine the best feature and value combination that results in the highest information gain (0.75 marks)**\n",
    "\n",
    "It takes as input: \n",
    "-  data: the data before the split\n",
    "-  features_list: the list of feature names\n",
    "\n",
    "\n",
    "It returns as output: \n",
    "- y1: name of the feature with the best information gain ( String ) \n",
    "- y2: value of the feature with the best information gain ( a feature value )\n",
    "\n",
    "**Note: use the find_subtrees(data, feature_list, split_feature, value) function for all possible combinations of <feature,value> to determine the best <feature,value> combination resulting in the highest information gain** "
   ]
  },
  {
   "cell_type": "code",
   "execution_count": 71,
   "metadata": {},
   "outputs": [],
   "source": [
    "def find_best_IG(data,features_list):\n",
    "    # the input `data` is a 2D array as illustrated in Q2\n",
    "    # the input `feature_list` is a list of feature names in the format of pandas Index\n",
    "    # the output `y1` is a String\n",
    "    # the output y2 is a numeric feature value\n",
    "    ############ YOUR CODE HERE ##############\n",
    "    \n",
    "    max_ig = 0\n",
    "    \n",
    "    for feature in features_list[:-1]:\n",
    "\n",
    "        values = np.unique(data[:, features_list.get_loc(feature)])\n",
    "        for v in values:\n",
    "            \n",
    "            data_left, data_right =  find_subtrees(data, features_list, feature, v)\n",
    "            ig = calculate_IG(data, [data_left, data_right])  \n",
    "            \n",
    "            if ig >= max_ig:\n",
    "                max_ig = ig\n",
    "                y1 = feature\n",
    "                y2 = v\n",
    "    \n",
    "    ##########################################\n",
    "    return y1, y2\n",
    "\n",
    "\n",
    "            "
   ]
  },
  {
   "cell_type": "code",
   "execution_count": 72,
   "metadata": {},
   "outputs": [],
   "source": [
    "############## TEST IT YOURSELF ###############\n",
    "assert(find_best_IG(train_df.values, train_df.columns)==('blue',1))"
   ]
  },
  {
   "cell_type": "markdown",
   "metadata": {},
   "source": [
    "### Main Binary Decision Tree Algorithm\n",
    "**Q6. This is the recursive part of developing the Binary Decision Tree. If you have developed all the previous parts correctly this function will make a Binary Decision Tree for the passed dataset. We can set the maximum depth of the tree (`max_depth`) and number of samples that we would stop splitting a node (`min_samples`). You must edit the code below in the marked area `criteria` for the stopping condition in the ID3 algorithm. (0.5 marks)**\n",
    "\n",
    "The criteria are:\n",
    " - the current node is pure or;\n",
    " - number of instances in the current node is less than minimum samples or;\n",
    " - we have reached the maximum depth of the tree"
   ]
  },
  {
   "cell_type": "code",
   "execution_count": 73,
   "metadata": {},
   "outputs": [],
   "source": [
    "def decision_tree_algorithm(data, array, max_depth, counter=0, min_samples=2):\n",
    "    \n",
    "    \n",
    "    criteria =  (calc_purity(data)) or (len(data) < min_samples) or (counter == max_depth)\n",
    "    if criteria :\n",
    "        y = assign_label(data)\n",
    "        return y\n",
    "    \n",
    "    # recursive part\n",
    "    else:\n",
    "        counter += 1\n",
    "        \n",
    "        name, value = find_best_IG(data,array)\n",
    "        data1, data2 = find_subtrees(data, array, name, value)\n",
    "        \n",
    "        if (len(data1) == 0) or (len(data2) == 0):\n",
    "            y = assign_label(data)\n",
    "            return y\n",
    "    \n",
    "        #instansiate the tree\n",
    "        node = \"{} < {}\".format(name, value)\n",
    "        sub_tree = {node: []}\n",
    "              \n",
    "        #develop the sub-trees (recursion)\n",
    "        left_child = decision_tree_algorithm(data=data1, array=array, max_depth=max_depth, counter=counter)\n",
    "        right_child = decision_tree_algorithm(data=data2, array=array, max_depth=max_depth, counter=counter)\n",
    "        \n",
    "        \n",
    "        if left_child == right_child:\n",
    "            sub_tree = right_child\n",
    "        else:\n",
    "            sub_tree[node].append(left_child)\n",
    "            sub_tree[node].append(right_child)\n",
    "        \n",
    "        return sub_tree   \n",
    "         "
   ]
  },
  {
   "cell_type": "code",
   "execution_count": 74,
   "metadata": {},
   "outputs": [],
   "source": [
    "############## TEST IT YOURSELF ###############\n",
    "data = train_df\n",
    "tree = decision_tree_algorithm(data=data.values, array=data.columns, max_depth=2, counter=0)"
   ]
  },
  {
   "cell_type": "markdown",
   "metadata": {},
   "source": [
    "# Classification and Evaluation\n",
    "\n",
    "Now that we have built our binary decision tree, we are ready to use it to predict a label for unseen instances. We provided the code to do this, below."
   ]
  },
  {
   "cell_type": "code",
   "execution_count": 75,
   "metadata": {},
   "outputs": [],
   "source": [
    "def predict_one_instance(example, tree):\n",
    "    \n",
    "    # tree is just a root node\n",
    "    if not isinstance(tree, dict):\n",
    "        return tree\n",
    "    \n",
    "    question = list(tree.keys())[0]\n",
    "    feature_name, comparison_operator, value = question.split(\" \")\n",
    "\n",
    "    # ask question\n",
    "    if (example[feature_name] < float(value)):\n",
    "        answer = tree[question][0]\n",
    "    else:\n",
    "        answer = tree[question][1]\n",
    "\n",
    "    # base case (the answer in not a dictionary)\n",
    "    if not isinstance(answer, dict):\n",
    "        return answer\n",
    "    \n",
    "    # recursive part\n",
    "    else:\n",
    "        residual_tree = answer\n",
    "        return predict_one_instance(example, residual_tree)\n"
   ]
  },
  {
   "cell_type": "code",
   "execution_count": 76,
   "metadata": {},
   "outputs": [],
   "source": [
    "def make_predictions(df, tree):\n",
    "    \n",
    "    if len(df) != 0:\n",
    "        predictions = df.apply(predict_one_instance, args=(tree,), axis=1)\n",
    "    else:\n",
    "        # \"df.apply()\"\" with empty dataframe returns an empty dataframe,\n",
    "        # but \"predictions\" should be a series instead\n",
    "        predictions = pd.Series()\n",
    "        \n",
    "    return predictions"
   ]
  },
  {
   "cell_type": "markdown",
   "metadata": {},
   "source": [
    "**Q7. Write a function to calculate accuracy (0.25 marks)**\n",
    "\n",
    "This function receives a dataframe and predictions of a trained tree (on that dataset) and should calculate the accuracy of the predictions for the passed dataframe.\n",
    "\n",
    "**NOTE:** You are NOT allowed to use any predefined Python accuracy methods here. "
   ]
  },
  {
   "cell_type": "code",
   "execution_count": 77,
   "metadata": {},
   "outputs": [],
   "source": [
    "def calculate_accuracy(df, predictions):\n",
    "    \n",
    "    ########### YOUR CODE HERE ##############\n",
    "    correct_predictions = 0\n",
    "    total_instances = len(df)\n",
    "    label = df['label']\n",
    "        \n",
    "    for i in df.index:\n",
    "        if label[i] == predictions[i]:\n",
    "            correct_predictions += 1\n",
    "    \n",
    "    accuracy = correct_predictions / total_instances\n",
    "    \n",
    "    #########################################\n",
    "    \n",
    "    return accuracy"
   ]
  },
  {
   "cell_type": "markdown",
   "metadata": {},
   "source": [
    "**Q8. Use the Tree (0.25 marks)**\n",
    "\n",
    "Using all the developed functions above build a tree using the **Training set** (train_df) (max_depth = 3) and then use it to predict labels for the **Test set** (test_df). Then print the accuracy of your tree for the test set."
   ]
  },
  {
   "cell_type": "code",
   "execution_count": 78,
   "metadata": {},
   "outputs": [
    {
     "name": "stdout",
     "output_type": "stream",
     "text": [
      "0.4318181818181818\n"
     ]
    }
   ],
   "source": [
    "#############  YOUR CODE HERE ##############\n",
    "depth_3_tree = decision_tree_algorithm(data=train_df.values, array=train_df.columns, max_depth=3, counter=0)\n",
    "accuracy = calculate_accuracy(test_df, make_predictions(test_df, depth_3_tree))\n",
    "###########################################\n",
    "print(accuracy) "
   ]
  },
  {
   "cell_type": "markdown",
   "metadata": {},
   "source": [
    "## Q9. Analytical questions (5.5 marks)\n",
    "\n",
    "Answer each of the following subquestions with a text answer of 3-5 sentences, using the results you obtained in the previous sections. You might need to re-run and reuse some of the functions you already implemented in the ### CODE ### cells above.\n",
    "\n",
    "\n",
    "### Q9.1. Analysing equal-frequency versus equal-width binning (1.5 marks)\n",
    "\n",
    "**(A)** Write a code to transform the `area` and `population` features with numeric values to categories using **equal width** binning with 5 bins. **[0.5 mark]**\n",
    "\n",
    "**(B)** Name which approach is more appropriate for `area` and `population` features, and explain the reasoning behind your decision.\n",
    "**[1 mark]**\n",
    "\n",
    "\n",
    "\n",
    "\n",
    "\n"
   ]
  },
  {
   "cell_type": "code",
   "execution_count": 79,
   "metadata": {},
   "outputs": [],
   "source": [
    "### CODE 9.1(A) ###(A) Write a code to transform the area and population features with numeric values to categories using equal width binning with 5 bins. [0.5 mark]\n",
    "\n",
    "num_bins = 5\n",
    "\n",
    "area_range = deep_copy_df['area'].max() - deep_copy_df['area'].min()\n",
    "area_bin_width = area_range / num_bins\n",
    "area_bin_edges = [deep_copy_df['area'].min() + i * area_bin_width for i in range(num_bins + 1)]\n",
    "\n",
    "deep_copy_df['area'] = pd.cut(deep_copy_df['area'], bins=area_bin_edges, include_lowest=True, labels=False)\n",
    "\n",
    "population_range = deep_copy_df['population'].max() - deep_copy_df['population'].min()\n",
    "population_bin_width = population_range / num_bins\n",
    "population_bin_edges = [deep_copy_df['population'].min() + i * population_bin_width for i in range(num_bins + 1)]\n",
    "\n",
    "deep_copy_df['population'] = pd.cut(deep_copy_df['population'], bins=area_bin_edges, include_lowest=True, labels=False)\n"
   ]
  },
  {
   "cell_type": "code",
   "execution_count": 80,
   "metadata": {},
   "outputs": [
    {
     "name": "stdout",
     "output_type": "stream",
     "text": [
      "Equal frequency binning for area\n",
      "Bin 0: Number of samples = 39\n",
      "Bin 1: Number of samples = 39\n",
      "Bin 2: Number of samples = 38\n",
      "Bin 3: Number of samples = 39\n",
      "Bin 4: Number of samples = 39\n",
      "\n",
      "Equal frequency binning for population\n",
      "Bin 0: Number of samples = 39\n",
      "Bin 1: Number of samples = 39\n",
      "Bin 2: Number of samples = 38\n",
      "Bin 3: Number of samples = 39\n",
      "Bin 4: Number of samples = 39\n",
      "\n",
      "Equal width binning for area\n",
      "Bin 0: Number of samples = 188\n",
      "Bin 1: Number of samples = 2\n",
      "Bin 2: Number of samples = 3\n",
      "Bin 4: Number of samples = 1\n",
      "\n",
      "Equal width binning for population\n",
      "Bin 0: Number of samples = 194\n",
      "\n"
     ]
    }
   ],
   "source": [
    "## Additional code to support text answer below\n",
    "\n",
    "print('Equal frequency binning for area')\n",
    "equal_freq_area_bins = df['area'].value_counts().sort_index()\n",
    "\n",
    "# Print bins and number of samples\n",
    "for bin_label, count in equal_freq_area_bins.items():\n",
    "    print(f\"Bin {bin_label}: Number of samples = {count}\")\n",
    "print()\n",
    "\n",
    "print('Equal frequency binning for population')\n",
    "equal_freq_population_bins = df['population'].value_counts().sort_index()\n",
    "\n",
    "# Print bins and number of samples\n",
    "for bin_label, count in equal_freq_population_bins.items():\n",
    "    print(f\"Bin {bin_label}: Number of samples = {count}\")\n",
    "print()\n",
    "\n",
    "print('Equal width binning for area')\n",
    "equal_width_area_bins = deep_copy_df['area'].value_counts().sort_index()\n",
    "\n",
    "# Print bins and number of samples\n",
    "for bin_label, count in equal_width_area_bins.items():\n",
    "    print(f\"Bin {bin_label}: Number of samples = {count}\")\n",
    "print()\n",
    "\n",
    "print('Equal width binning for population')\n",
    "equal_width_population_bins = deep_copy_df['population'].value_counts().sort_index()\n",
    "\n",
    "# Print bins and number of samples\n",
    "for bin_label, count in equal_width_population_bins.items():\n",
    "    print(f\"Bin {bin_label}: Number of samples = {count}\")\n",
    "print()"
   ]
  },
  {
   "cell_type": "markdown",
   "metadata": {},
   "source": [
    "**Type your text answers here**\n",
    "\n",
    "**(B)**\n",
    "\n",
    "\n",
    "Equal frequency binning is more appropriate as although both maintain a balanced distribution of samples for the area feature, this is not case for the population feature (this can be seen from the results displayed above, which shows the binning type, feature, and the number of samples in each bin). Transforming the population feature with numeric values to categories using equal width binning with 5 bins, the number of samples in each bin varies widely, and the is unevenly distributed across bins.\n",
    "\n",
    "This is due to there being outliers in the population feature with the max value being for Item 38, which has the value of 1008, while most of the other values are significantly smaller. This leads to majority of the sample populating Bin 0.\n",
    "\n",
    "Using Equal Frequency binning, the number of samples in each bin is consistent with the same number of samples in most bins, and therefore will be more appropriate for our given dataset.\n"
   ]
  },
  {
   "cell_type": "markdown",
   "metadata": {},
   "source": [
    "### Q9.2. Analysing model accuracy (2.25 marks)\n",
    "\n",
    "**(A)** Plot a <a href=\"https://en.wikipedia.org/wiki/Histogram\">histogram</a> of the actual class frequencies in the test set, and a histogram of the predicted test labels for the decision tree with depth=3. You should produce **a single plot** which shows the histogram both true and predicted labels. You should label the x-axis and y-axis appropriately and use legends to make your plot readable. [*N.B. you may use libraries like <a href=\"https://matplotlib.org/stable/tutorials/introductory/usage.html#sphx-glr-tutorials-introductory-usage-py\">matplotlib</a> or <a href=\"https://seaborn.pydata.org/introduction.html\">seaborne</a>*] **[1 mark]**\n",
    "\n",
    "**(B)** Describe and explain the discrepancy between the true and predicted distributions. **[0.75 mark]**\n",
    "\n",
    "**(C)** Do you think the accuracy is an appropriate evaluation metric for the *Flags* data set? Explain your answer. **[0.5 marks]**\n"
   ]
  },
  {
   "cell_type": "code",
   "execution_count": 81,
   "metadata": {},
   "outputs": [
    {
     "data": {
      "image/png": "[encoded data removed]",
      "text/plain": [
       "<Figure size 720x432 with 1 Axes>"
      ]
     },
     "metadata": {
      "needs_background": "light"
     },
     "output_type": "display_data"
    }
   ],
   "source": [
    "import matplotlib.pyplot as plt\n",
    "\n",
    "################################################\n",
    "# Your answer to Question 9.2(A) STARTS HERE\n",
    "################################################\n",
    "plt.figure(figsize=(10, 6))\n",
    "true_labels, true_label_counts = np.unique(test_df[\"label\"], return_counts=True)\n",
    "predicted_labels, predicted_label_counts = np.unique(make_predictions(test_df, depth_3_tree), return_counts=True)\n",
    "\n",
    "plt.bar(true_labels, true_label_counts, label=\"True Labels\")\n",
    "plt.bar(predicted_labels, predicted_label_counts, label=\"Predicted Labels\", width=0.4)\n",
    "\n",
    "plt.xlabel('Class Labels')\n",
    "plt.ylabel('Frequency')\n",
    "plt.legend()\n",
    "plt.title('True and Predicted Class Frequencies for the Test Set')\n",
    "plt.show()\n",
    "  \n",
    "\n",
    "################################################\n",
    "# Your answer to Question 9.2(A) ENDS HERE\n",
    "################################################\n"
   ]
  },
  {
   "cell_type": "markdown",
   "metadata": {},
   "source": [
    "**Type your text answers here**\n",
    "\n",
    "**(B)**\n",
    "\n",
    "\n",
    "From the histogram generated above, it is visible that 'white' and 'orange' labels are not being predicted, while the 'brown' label is being predicted even though there is no presence of it in the test set.\n",
    "We can also see that that 'blue' and 'gold' are being predicted more often their true labels, while 'green' and 'red' are being predicted less often.\n",
    "\n",
    "Labels with 'green','red', 'orange', and 'white' are probably being predicted as 'blue', 'gold' and 'brown', which could be the reason for latter being predicted more than the actual number of their true labels.\n",
    "\n",
    "This is the depth 3 tree generated on the train set which was used to make predictions on the test set.\n",
    "\n",
    "{'blue < 1': [{'red < 1': [{'orange < 1': ['green', 'brown']},\n",
    "                           {'gold < 1': ['red', 'gold']}]},\n",
    "              {'red < 1': [{'green < 1': ['blue', 'green']},\n",
    "                           {'white < 1': ['gold', 'blue']}]}]}\n",
    "                           \n",
    "The decision tree reveals that the absence of 'orange' and 'white' labels within the leaf nodes indicates that the tree is not predicting these specific labels.                 \n",
    "The training data set as well as the depth of the tree are quite small, with a very uneven composition of labels, so there is not enough information for predicted the labels accurately.\n",
    "\n",
    "**(C)**\n",
    "\n",
    "The Flags data set involves a multiclass classification problem and accuracy is not the most appropriate evaluation metric since the class distribution is imbalanced with an uneven composition of labels. \n",
    "\n",
    "There is an imbalance in the class distributions, with some label like 'blue' and 'red' being significantly more prevalent in the data set as compared to other classes. Furthermore, it may be the case that different features have different levels of importance when it comes to prediction. \n",
    "\n",
    "Accuracy also does not take into account true positives, false positives, and false negative, which could be more helpful when there is a class imbalance.\n"
   ]
  },
  {
   "cell_type": "markdown",
   "metadata": {},
   "source": [
    "### Q9.3 Features (0.75 mark)\n",
    "\n",
    "By looking at the `flags.names` file as well as your helper functions answer the following question. Feel free to implement gain ratio but you can answer this question intuitively too. \n",
    "\n",
    "**(A)** If we were to use `gain ratio` instead of `information gain`, which of the 25 attributes would be most affected? why? **0.75**"
   ]
  },
  {
   "cell_type": "code",
   "execution_count": 82,
   "metadata": {},
   "outputs": [
    {
     "name": "stdout",
     "output_type": "stream",
     "text": [
      "landmass has 6 distinct values\n",
      "zone has 4 distinct values\n",
      "area has 5 distinct values\n",
      "population has 5 distinct values\n",
      "language has 10 distinct values\n",
      "bars has 5 distinct values\n",
      "stripes has 12 distinct values\n",
      "colours has 8 distinct values\n",
      "red has 2 distinct values\n",
      "green has 2 distinct values\n",
      "blue has 2 distinct values\n",
      "gold has 2 distinct values\n",
      "white has 2 distinct values\n",
      "black has 2 distinct values\n",
      "orange has 2 distinct values\n",
      "circles has 4 distinct values\n",
      "crosses has 3 distinct values\n",
      "saltires has 2 distinct values\n",
      "quarters has 3 distinct values\n",
      "sunstars has 14 distinct values\n",
      "crescent has 2 distinct values\n",
      "triangle has 2 distinct values\n",
      "icon has 2 distinct values\n",
      "animate has 2 distinct values\n",
      "text has 2 distinct values\n",
      "label has 8 distinct values\n",
      "\n",
      "sunstars has the most number of distinct values: 14\n"
     ]
    }
   ],
   "source": [
    "### CODE 9.3 optional code ###\n",
    "for col in df.columns:\n",
    "    most_distinct_value = df[col].value_counts().idxmax()\n",
    "    num_distinct_values = df[col].nunique()\n",
    "    print(f\"{col} has {num_distinct_values} distinct values\")\n",
    "    \n",
    "print()    \n",
    "most_distinct_column = max(df, key=lambda col: df[col].nunique())\n",
    "print(most_distinct_column,\"has the most number of distinct values:\", df[most_distinct_column].nunique())\n"
   ]
  },
  {
   "cell_type": "markdown",
   "metadata": {},
   "source": [
    "**Type your text answers here**\n",
    "\n",
    "Using Gain Ration instead of Information Gain, reduces the bias for information gain towards highly branching attributes, i.e attributes with more distinct values, by normalising relative to the split information.\n",
    "\n",
    "By looking through the flag.names file, it seems to be the case that the 'languages' feature has a high number of distinct values, with the number of values being 10, but after the analysing the data set, and calculating the distinct values for each, it turns out that the 'sunstars' feature has 14 distinct values, and therefore has the highest number of distinct values.\n",
    "\n",
    "The 'sunstars' feature would be most affected as it has the highest number of distinct values, and gain ratio penalizes attributes with a large number of values, by normalising relative to the split information.\n",
    "\n"
   ]
  },
  {
   "cell_type": "markdown",
   "metadata": {},
   "source": [
    "### Q9.4 Decision tree complexity (1 mark)\n",
    "\n",
    "**(A)** Using the tree you generated in Q8 (name it `little_tree`), find the accuracy of the tree for predicting the labels for the **training set**. Do you notice a difference between train and test accuracy? If so, discuss possible reasons. \n",
    "\n",
    "**(B)** Now change the max_depth of the decision tree to 10 and train another tree (name it `big_tree`). Now use this new tree to predict the labels for test and train sets. Describe and explain any change in the results you notice compared to your tree of depth 3.\n"
   ]
  },
  {
   "cell_type": "code",
   "execution_count": 83,
   "metadata": {},
   "outputs": [
    {
     "name": "stdout",
     "output_type": "stream",
     "text": [
      "accuracy_little_tree_train:  0.5266666666666666\n",
      "accuracy_little_tree_test:  0.4318181818181818\n"
     ]
    }
   ],
   "source": [
    "### CODE 9.4 (A) ###\n",
    "little_tree = depth_3_tree\n",
    "accuracy_little_tree_train = calculate_accuracy(train_df, make_predictions(train_df, little_tree))\n",
    "accuracy_little_tree_test = calculate_accuracy(test_df, make_predictions(test_df, depth_3_tree))\n",
    "print(\"accuracy_little_tree_train: \", accuracy_little_tree_train)\n",
    "print(\"accuracy_little_tree_test: \", accuracy_little_tree_test)\n",
    "# pprint(little_tree)"
   ]
  },
  {
   "cell_type": "code",
   "execution_count": 84,
   "metadata": {},
   "outputs": [
    {
     "name": "stdout",
     "output_type": "stream",
     "text": [
      "accuracy_big_tree_train:  1.0\n",
      "accuracy_big_tree_test:  0.45454545454545453\n"
     ]
    }
   ],
   "source": [
    "### CODE 9.4 (B) ###\n",
    "big_tree = decision_tree_algorithm(data=train_df.values, array=train_df.columns, max_depth=10, counter=0)\n",
    "accuracy_big_tree_train = calculate_accuracy(train_df, make_predictions(train_df, big_tree))\n",
    "accuracy_big_tree_test = calculate_accuracy(test_df, make_predictions(test_df, big_tree))\n",
    "print(\"accuracy_big_tree_train: \", accuracy_big_tree_train)\n",
    "print(\"accuracy_big_tree_test: \", accuracy_big_tree_test)\n",
    "# print(big_tree)"
   ]
  },
  {
   "cell_type": "markdown",
   "metadata": {},
   "source": [
    "**Type your text answers here**\n",
    "\n",
    "**(A)**\n",
    "\n",
    "The difference between the train and test accuracies may be due to the tree being trained to a depth of 3, resulting in it being quite shallow and underfitting the data. It is not able to generate appropriate patterns from the train set to make accurate predictions on the test set, which could be resulting in a lower accuracy for the test set as compared to the train set. The training data is limited with only 150 instances, which could lead to the model memorizing instead of generalising based on patterns.\n",
    "\n",
    "There also seems to be a presence of an imbalance of classes, with the distibution of classes in the training and test data being different, and decision tree model may be predicting the majority classes better on the training set, while failing to generalise to the minority in the test set.\n",
    "\n",
    "Another possible reason could due to feature variability, with some features not being well represented in the train set, affecting the predication capability in the test set.\n",
    "\n",
    "**(B)**\n",
    "\n",
    "Changing the max_depth of the tree to 10, the accuracy of the training set has increased significantly, and it predicts labels of the training data accurate with a accuracy of 1 or 100%. There is a slight increase in the accuracy of prediction on the test set to 0.45, but not very significant, and is not able to predict the labels for new instances very well. \n",
    "\n",
    "This could be a result of overfitting, and the model has captured more intricate patterns in the training data, but the improvement towards its test set accuracy is still relatively low, indicating that it is also not generalising well to new data. \n",
    "\n",
    "The tree has also likely learned noise and outliers present in the training data, which is why it achieves this perfect accuracy, but does not perform well on the test data.  "
   ]
  },
  {
   "cell_type": "markdown",
   "metadata": {},
   "source": [
    "# Authorship Declaration:\n",
    "\n",
    "   (1) I certify that the program contained in this submission is completely\n",
    "   my own individual work, except where explicitly noted by comments that\n",
    "   provide details otherwise.  I understand that work that has been developed\n",
    "   by another student, or by me in collaboration with other students,\n",
    "   or by non-students as a result of request, solicitation, or payment,\n",
    "   may not be submitted for assessment in this subject.  I understand that\n",
    "   submitting for assessment work developed by or in collaboration with\n",
    "   other students or non-students constitutes Academic Misconduct, and\n",
    "   may be penalized by mark deductions, or by other penalties determined\n",
    "   via the University of Melbourne Academic Honesty Policy, as described\n",
    "   at https://academicintegrity.unimelb.edu.au.\n",
    "\n",
    "   (2) I also certify that I have not provided a copy of this work in either\n",
    "   softcopy or hardcopy or any other form to any other student, and nor will\n",
    "   I do so until after the marks are released. I understand that providing\n",
    "   my work to other students, regardless of my intention or any undertakings\n",
    "   made to me by that other student, is also Academic Misconduct.\n",
    "\n",
    "   (3) I further understand that providing a copy of the assignment\n",
    "   specification to any form of code authoring or assignment tutoring\n",
    "   service, or drawing the attention of others to such services and code\n",
    "   that may have been made available via such a service, may be regarded\n",
    "   as Student General Misconduct (interfering with the teaching activities\n",
    "   of the University and/or inciting others to commit Academic Misconduct).\n",
    "   I understand that an allegation of Student General Misconduct may arise\n",
    "   regardless of whether or not I personally make use of such solutions\n",
    "   or sought benefit from such actions.\n",
    "\n",
    "   <b>Signed by</b>: [Kian Dsouza - 1142463]\n",
    "   \n",
    "   <b>Dated</b>: [11/08/2023]"
   ]
  }
 ],
 "metadata": {
  "kernelspec": {
   "display_name": "Python 3",
   "language": "python",
   "name": "python3"
  },
  "language_info": {
   "codemirror_mode": {
    "name": "ipython",
    "version": 3
   },
   "file_extension": ".py",
   "mimetype": "text/x-python",
   "name": "python",
   "nbconvert_exporter": "python",
   "pygments_lexer": "ipython3",
   "version": "3.8.5"
  }
 },
 "nbformat": 4,
 "nbformat_minor": 5
}
